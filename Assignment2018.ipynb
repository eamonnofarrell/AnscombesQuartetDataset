{
 "cells": [
  {
   "cell_type": "code",
   "execution_count": 1,
   "metadata": {},
   "outputs": [
    {
     "ename": "SyntaxError",
     "evalue": "invalid syntax (<ipython-input-1-12d5436efa9a>, line 4)",
     "output_type": "error",
     "traceback": [
      "\u001b[1;36m  File \u001b[1;32m\"<ipython-input-1-12d5436efa9a>\"\u001b[1;36m, line \u001b[1;32m4\u001b[0m\n\u001b[1;33m    Summary statistics, such as sums and means, can instantly provide useful information about your data\u001b[0m\n\u001b[1;37m                     ^\u001b[0m\n\u001b[1;31mSyntaxError\u001b[0m\u001b[1;31m:\u001b[0m invalid syntax\n"
     ]
    }
   ],
   "source": [
    "# Assignment 2018\n",
    "## Fundamentals of Data Analysis\n",
    "\n",
    "Summary statistics, such as sums and means, can instantly provide useful information about your data \n",
    "and are very useful in describing complex datasets. But there is a \n",
    "\n",
    "Summary statistics allow us to describe a vast, complex dataset using just a few key numbers. \n",
    "This gives us something easy to optimize against and use as a barometer for our business.\n",
    "But there’s a danger in relying only on summary statistics and ignoring the overall distribution.\n",
    "We took a look at this earlier as it relates to average revenue per user. In this article, we’re going to dive deeper into how summary statistics can be misleading. Calculating summary statistics, while useful, should only be one piece of your data analysis pipeline.\n",
    "Anscombe’s Quartet\n",
    "Perhaps the most elegant demonstration of the dangers of summary statistics is Anscombe’s Quartet. \n",
    "It’s a group of four datasets that appear to be similar when using typical summary statistics, \n",
    "yet tell four different stories when graphed. Each dataset consists of eleven (x,y) pairs "
   ]
  },
  {
   "cell_type": "markdown",
   "metadata": {},
   "source": []
  }
 ],
 "metadata": {
  "kernelspec": {
   "display_name": "Python 3",
   "language": "python",
   "name": "python3"
  },
  "language_info": {
   "codemirror_mode": {
    "name": "ipython",
    "version": 3
   },
   "file_extension": ".py",
   "mimetype": "text/x-python",
   "name": "python",
   "nbconvert_exporter": "python",
   "pygments_lexer": "ipython3",
   "version": "3.6.5"
  }
 },
 "nbformat": 4,
 "nbformat_minor": 2
}
