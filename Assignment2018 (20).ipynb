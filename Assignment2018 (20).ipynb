{
 "cells": [
  {
   "cell_type": "markdown",
   "metadata": {},
   "source": [
    "# Assignment 2018\n",
    "## Fundamentals of Data Analysis\n",
    "\n",
    "___\n",
    "\n",
    "Summary statistics, such as sum and mean are vey useful for describing general trends and aspects of data, but statistics alone can not fully depict any data set. There is a danger in relying only on summary statistics and ignoring the overall distribution [1]. Francis John \"Frank\" Anscombe (13 May 1918 – 17 October 2001), an English statistician realised this in 1973 and created several data sets, all with several identical statistical properties, to demonstrate the importance of visualizing data and also to highlight the effect that outliers (observation that lies an abnormal distance from other values in a random sample from a population) [4]can have on statistical findings of a dataset. Anscombe’s Quartet consists of four data sets, that appear to have similar summary statistics, yet when graphed the datasets tell a very different story. Each dataset consists of eleven X,Y pairs. \n",
    "\n",
    "## Anscombe's Quartet:-\n"
   ]
  },
  {
   "cell_type": "code",
   "execution_count": 249,
   "metadata": {},
   "outputs": [
    {
     "data": {
      "text/html": [
       "<div>\n",
       "<style scoped>\n",
       "    .dataframe tbody tr th:only-of-type {\n",
       "        vertical-align: middle;\n",
       "    }\n",
       "\n",
       "    .dataframe tbody tr th {\n",
       "        vertical-align: top;\n",
       "    }\n",
       "\n",
       "    .dataframe thead th {\n",
       "        text-align: right;\n",
       "    }\n",
       "</style>\n",
       "<table border=\"1\" class=\"dataframe\">\n",
       "  <thead>\n",
       "    <tr style=\"text-align: right;\">\n",
       "      <th></th>\n",
       "      <th>x1</th>\n",
       "      <th>x2</th>\n",
       "      <th>x3</th>\n",
       "      <th>x4</th>\n",
       "      <th>y1</th>\n",
       "      <th>y2</th>\n",
       "      <th>y3</th>\n",
       "      <th>y4</th>\n",
       "    </tr>\n",
       "  </thead>\n",
       "  <tbody>\n",
       "    <tr>\n",
       "      <th>0</th>\n",
       "      <td>10</td>\n",
       "      <td>10</td>\n",
       "      <td>10</td>\n",
       "      <td>8</td>\n",
       "      <td>8.04</td>\n",
       "      <td>9.14</td>\n",
       "      <td>7.46</td>\n",
       "      <td>6.58</td>\n",
       "    </tr>\n",
       "    <tr>\n",
       "      <th>1</th>\n",
       "      <td>8</td>\n",
       "      <td>8</td>\n",
       "      <td>8</td>\n",
       "      <td>8</td>\n",
       "      <td>6.95</td>\n",
       "      <td>8.14</td>\n",
       "      <td>6.77</td>\n",
       "      <td>5.76</td>\n",
       "    </tr>\n",
       "    <tr>\n",
       "      <th>2</th>\n",
       "      <td>13</td>\n",
       "      <td>13</td>\n",
       "      <td>13</td>\n",
       "      <td>8</td>\n",
       "      <td>7.58</td>\n",
       "      <td>8.74</td>\n",
       "      <td>12.74</td>\n",
       "      <td>7.71</td>\n",
       "    </tr>\n",
       "    <tr>\n",
       "      <th>3</th>\n",
       "      <td>9</td>\n",
       "      <td>9</td>\n",
       "      <td>9</td>\n",
       "      <td>8</td>\n",
       "      <td>8.81</td>\n",
       "      <td>8.77</td>\n",
       "      <td>7.11</td>\n",
       "      <td>8.84</td>\n",
       "    </tr>\n",
       "    <tr>\n",
       "      <th>4</th>\n",
       "      <td>11</td>\n",
       "      <td>11</td>\n",
       "      <td>11</td>\n",
       "      <td>8</td>\n",
       "      <td>8.33</td>\n",
       "      <td>9.26</td>\n",
       "      <td>7.81</td>\n",
       "      <td>8.47</td>\n",
       "    </tr>\n",
       "    <tr>\n",
       "      <th>5</th>\n",
       "      <td>14</td>\n",
       "      <td>14</td>\n",
       "      <td>14</td>\n",
       "      <td>8</td>\n",
       "      <td>9.96</td>\n",
       "      <td>8.10</td>\n",
       "      <td>8.84</td>\n",
       "      <td>7.04</td>\n",
       "    </tr>\n",
       "    <tr>\n",
       "      <th>6</th>\n",
       "      <td>6</td>\n",
       "      <td>6</td>\n",
       "      <td>6</td>\n",
       "      <td>8</td>\n",
       "      <td>7.24</td>\n",
       "      <td>6.13</td>\n",
       "      <td>6.08</td>\n",
       "      <td>5.25</td>\n",
       "    </tr>\n",
       "    <tr>\n",
       "      <th>7</th>\n",
       "      <td>4</td>\n",
       "      <td>4</td>\n",
       "      <td>4</td>\n",
       "      <td>19</td>\n",
       "      <td>4.26</td>\n",
       "      <td>3.10</td>\n",
       "      <td>5.39</td>\n",
       "      <td>12.50</td>\n",
       "    </tr>\n",
       "    <tr>\n",
       "      <th>8</th>\n",
       "      <td>12</td>\n",
       "      <td>12</td>\n",
       "      <td>12</td>\n",
       "      <td>8</td>\n",
       "      <td>10.84</td>\n",
       "      <td>9.13</td>\n",
       "      <td>8.15</td>\n",
       "      <td>5.56</td>\n",
       "    </tr>\n",
       "    <tr>\n",
       "      <th>9</th>\n",
       "      <td>7</td>\n",
       "      <td>7</td>\n",
       "      <td>7</td>\n",
       "      <td>8</td>\n",
       "      <td>4.82</td>\n",
       "      <td>7.26</td>\n",
       "      <td>6.42</td>\n",
       "      <td>7.91</td>\n",
       "    </tr>\n",
       "    <tr>\n",
       "      <th>10</th>\n",
       "      <td>5</td>\n",
       "      <td>5</td>\n",
       "      <td>5</td>\n",
       "      <td>8</td>\n",
       "      <td>5.68</td>\n",
       "      <td>4.74</td>\n",
       "      <td>5.73</td>\n",
       "      <td>6.89</td>\n",
       "    </tr>\n",
       "  </tbody>\n",
       "</table>\n",
       "</div>"
      ],
      "text/plain": [
       "    x1  x2  x3  x4     y1    y2     y3     y4\n",
       "0   10  10  10   8   8.04  9.14   7.46   6.58\n",
       "1    8   8   8   8   6.95  8.14   6.77   5.76\n",
       "2   13  13  13   8   7.58  8.74  12.74   7.71\n",
       "3    9   9   9   8   8.81  8.77   7.11   8.84\n",
       "4   11  11  11   8   8.33  9.26   7.81   8.47\n",
       "5   14  14  14   8   9.96  8.10   8.84   7.04\n",
       "6    6   6   6   8   7.24  6.13   6.08   5.25\n",
       "7    4   4   4  19   4.26  3.10   5.39  12.50\n",
       "8   12  12  12   8  10.84  9.13   8.15   5.56\n",
       "9    7   7   7   8   4.82  7.26   6.42   7.91\n",
       "10   5   5   5   8   5.68  4.74   5.73   6.89"
      ]
     },
     "execution_count": 249,
     "metadata": {},
     "output_type": "execute_result"
    }
   ],
   "source": [
    "data = pd.read_csv('anscombe.csv')\n",
    "data"
   ]
  },
  {
   "cell_type": "markdown",
   "metadata": {},
   "source": [
    "Introduction:\n",
    "In the World of Data Analytics it is a mistake to assume that statistical analysis of a Dataset can be relied upon to predict the shape of the Dataset. To be completely accurate you must graph the dataset and do the Statistical Analysis. The Graphs below show a small Dataset of X and Y values.\n",
    "Note: The Statistical Package R was used through out for the Calculations and Graphs.\n",
    "Statistical Analysis:\n",
    "Let’s say you start your Analysis by, drawing out the regression line. You will get a line equal to Y=3.00 + 0.500X. The Correlation between X and Y (the Person Correlation Coefficient) is 0.816   This is very close to the value one (1), so you might think the data is tightly bunched together around the regression line. Then you might find the mean for x and y which is 9 and 7.5 respectively. Next you might get the Variance of the X values, which is 11 so the average distance of the X Data Points away from the mean is 3.3 (Root 11). After that you get the Variance of the Y Values which is 4.12 giving the average distance of the Points away from the mean as 2.03 (Root 4.12). You might put all these figures together in a Table which may make you pretty confident of the shape of the Graph that you are going to Sketch Out.\n",
    "\n",
    "----------------------------------------------------------------------\n",
    "The Errors in these thought processes are demonstrated by Four Graphs reproduced here called, Anscombe’s Quartet, which were created by F. J. Anscombe for his classic 1973 paper, Graphs in Statistical Analysis. All four graphs have identical (to two decimal places) statistical coefficients. However as these graphs demonstrate and here is the big takeaway, summary statistics don’t tell us everything about a Dataset.\n",
    "To really understand the Dataset you must obtain the summary statistics and you must Graph the relationship of the dataset. !"
   ]
  },
  {
   "cell_type": "code",
   "execution_count": 227,
   "metadata": {},
   "outputs": [],
   "source": [
    "import numpy as np \n",
    "import matplotlib.pyplot as plt\n",
    "import seaborn as sns\n",
    "df = pd.DataFrame(data, columns=['x1', 'x2', 'x3', 'x4','y1' ,'y2','y3' ,'y4'])"
   ]
  },
  {
   "cell_type": "markdown",
   "metadata": {},
   "source": [
    "## Sum\n",
    "    - The sum of each of the values in each individual column.\n",
    "    - The Sum of individual X columns is 99.0 and 82.5 for y. \n",
    "    - This highlights the statistical uniformity of the data."
   ]
  },
  {
   "cell_type": "code",
   "execution_count": 250,
   "metadata": {},
   "outputs": [
    {
     "data": {
      "text/plain": [
       "x1    99.00\n",
       "x2    99.00\n",
       "x3    99.00\n",
       "x4    99.00\n",
       "y1    82.51\n",
       "y2    82.51\n",
       "y3    82.50\n",
       "y4    82.51\n",
       "dtype: float64"
      ]
     },
     "execution_count": 250,
     "metadata": {},
     "output_type": "execute_result"
    }
   ],
   "source": [
    "df.sum()"
   ]
  },
  {
   "cell_type": "markdown",
   "metadata": {},
   "source": [
    "## Mean\n",
    "    - The mean is the average of the numbers. It is the sum divided by the count.\n",
    "    - The mean for x columns is 9 and the mean for y columns is 7.5\n",
    "    - This shows "
   ]
  },
  {
   "cell_type": "code",
   "execution_count": 206,
   "metadata": {},
   "outputs": [
    {
     "data": {
      "text/plain": [
       "x1    9.000000\n",
       "x2    9.000000\n",
       "x3    9.000000\n",
       "x4    9.000000\n",
       "y1    7.500909\n",
       "y2    7.500909\n",
       "y3    7.500000\n",
       "y4    7.500909\n",
       "dtype: float64"
      ]
     },
     "execution_count": 206,
     "metadata": {},
     "output_type": "execute_result"
    }
   ],
   "source": [
    "df.mean()"
   ]
  },
  {
   "cell_type": "markdown",
   "metadata": {},
   "source": [
    "### Variance\n",
    "Another interesting statistic is Variance, which is the average distance of data points from the mean. The figures are almost the same for x and y data.\n",
    "    - The Variance of the X values = 11, meaning the average distance of the X Data Points away from mean is 3.3 (Root 11).\n",
    "    - The Variance of the Y values = 4.12 meaning the average distance of the Points away from mean as 2.03 (Root 4.12).\n",
    "   \n",
    "This statistic is misleading in relation to Anscombe's data. The only plot that resembles close relationship with the mean is Anscombe's [firstset](#Firstset)\n",
    "    "
   ]
  },
  {
   "cell_type": "code",
   "execution_count": 134,
   "metadata": {},
   "outputs": [
    {
     "data": {
      "text/plain": [
       "x1    11.000000\n",
       "x2    11.000000\n",
       "x3    11.000000\n",
       "x4    11.000000\n",
       "y1     4.127269\n",
       "y2     4.127629\n",
       "y3     4.122620\n",
       "y4     4.123249\n",
       "dtype: float64"
      ]
     },
     "execution_count": 134,
     "metadata": {},
     "output_type": "execute_result"
    }
   ],
   "source": [
    "df.var()"
   ]
  },
  {
   "cell_type": "markdown",
   "metadata": {},
   "source": [
    "### Pearson’s Correlation Coefficient \n",
    "\n",
    "The Pearson correlation coefficient, r, can take a range of values from +1 to -1. A value of 0 indicates that there is no association between the two variables. A value greater than 0 indicates a positive association; that is, as the value of one variable increases, so does the value of the other variable. A value less than 0 indicates a negative association; that is, as the value of one variable increases, the value of the other variable decreases.[2]\n",
    "\n",
    "    - calculated using df['X1'].corr(df['Y1']) \n",
    "    - The Correlation between X and Y is 0.816. This is very close to the value one (1), \n",
    "        suggesting the data is tightly bunched together around the regression line."
   ]
  },
  {
   "cell_type": "code",
   "execution_count": 216,
   "metadata": {},
   "outputs": [
    {
     "data": {
      "text/plain": [
       "(0.81642051634484, 0.8162365060002428, 0.8162867394895984, 0.8165214368885028)"
      ]
     },
     "execution_count": 216,
     "metadata": {},
     "output_type": "execute_result"
    }
   ],
   "source": [
    "df['x1'].corr(df['y1']),df['x2'].corr(df['y2']),df['x3'].corr(df['y3']),df['x4'].corr(df['y4'])"
   ]
  },
  {
   "cell_type": "markdown",
   "metadata": {},
   "source": [
    "### Linear Regression\n",
    "Linear regression attempts to model the relationship between two variables by fitting a linear equation to observed data.[5]  \n",
    "A linear regression line has an equation of the form Y = a + bX, where X is the explanatory variable and Y is the dependent variable. The slope of the line is b, and a is the intercept (the value of y when x = 0). Statistics from linregress(df.x1,df.y1) gives slope =5 and intercept =3. The resulting line is equal to Y=3.00 + 0.500X. The data is approximately the same for all data sets. "
   ]
  },
  {
   "cell_type": "code",
   "execution_count": 251,
   "metadata": {
    "scrolled": true
   },
   "outputs": [
    {
     "data": {
      "text/plain": [
       "(LinregressResult(slope=0.5000909090909091, intercept=3.0000909090909103, rvalue=0.8164205163448399, pvalue=0.00216962887307879, stderr=0.11790550059563408),\n",
       " LinregressResult(slope=0.5000000000000001, intercept=3.000909090909089, rvalue=0.816236506000243, pvalue=0.0021788162369107845, stderr=0.11796374596764074),\n",
       " LinregressResult(slope=0.4997272727272729, intercept=3.002454545454544, rvalue=0.8162867394895984, pvalue=0.002176305279228015, stderr=0.11787766222100221),\n",
       " LinregressResult(slope=0.4999090909090909, intercept=3.0017272727272726, rvalue=0.8165214368885028, pvalue=0.002164602347197222, stderr=0.11781894172968553))"
      ]
     },
     "execution_count": 251,
     "metadata": {},
     "output_type": "execute_result"
    }
   ],
   "source": [
    "from scipy.stats import linregress\n",
    "linregress(df.x1,df.y1),linregress(df.x2,df.y2),linregress(df.x3,df.y3),linregress(df.x4,df.y4),"
   ]
  },
  {
   "cell_type": "markdown",
   "metadata": {},
   "source": [
    "## Graph of Anscombe's First Set (X1, Y1)\n",
    "A scatterplot can be a helpful tool in determining the strength of the relationship between two variables.[5] Dataset 1 consists of a set of points that appear to follow a rough linear relationship with some variance. This is a good model for the data in this case."
   ]
  },
  {
   "cell_type": "code",
   "execution_count": 238,
   "metadata": {},
   "outputs": [
    {
     "data": {
      "text/plain": [
       "Text(0.5,1,'Anscombe Set 1')"
      ]
     },
     "execution_count": 238,
     "metadata": {},
     "output_type": "execute_result"
    },
    {
     "data": {
      "image/png": "[encoded data removed]",
      "text/plain": [
       "<Figure size 432x288 with 1 Axes>"
      ]
     },
     "metadata": {},
     "output_type": "display_data"
    }
   ],
   "source": [
    "sns.regplot(df.x1, df.y1);     \n",
    "plt.title('Anscombe Set 1') "
   ]
  },
  {
   "cell_type": "markdown",
   "metadata": {},
   "source": [
    "The residplot() function [3] can be a useful tool for checking whether the simple regression model is appropriate for a dataset. It fits and removes a simple linear regression and then plots the residual values for each observation. Ideally, these values should be randomly scattered around y = 0: "
   ]
  },
  {
   "cell_type": "code",
   "execution_count": 166,
   "metadata": {},
   "outputs": [
    {
     "data": {
      "text/plain": [
       "Text(0.5,1,'Anscombe Set 1')"
      ]
     },
     "execution_count": 166,
     "metadata": {},
     "output_type": "execute_result"
    },
    {
     "data": {
      "image/png": "[encoded data removed]",
      "text/plain": [
       "<Figure size 432x288 with 1 Axes>"
      ]
     },
     "metadata": {},
     "output_type": "display_data"
    }
   ],
   "source": [
    "sns.residplot(df.x1, df.y1);\n",
    "plt.title('Anscombe Set 1')"
   ]
  },
  {
   "cell_type": "markdown",
   "metadata": {},
   "source": [
    "## Graph of Anscombe's Second Set (X2, Y2)\n",
    "Anscombe's second set fits a neat curve but doesn’t follow a linear relationship, seems to fit a quadratic curve or curvelinear. Trying to fit a linear regression model to the data in this case does not provide a useful model. The Correlation coefficient as computed earlier in this notebook is 0.816, in otherwords, less than 1. Graphical representation tells a different story. "
   ]
  },
  {
   "cell_type": "code",
   "execution_count": 199,
   "metadata": {},
   "outputs": [
    {
     "data": {
      "text/plain": [
       "Text(0.5,1,'Anscombe Set 2')"
      ]
     },
     "execution_count": 199,
     "metadata": {},
     "output_type": "execute_result"
    },
    {
     "data": {
      "image/png": "[encoded data removed]",
      "text/plain": [
       "<Figure size 432x288 with 1 Axes>"
      ]
     },
     "metadata": {},
     "output_type": "display_data"
    }
   ],
   "source": [
    "sns.regplot(df.x2, df.y2); \n",
    "plt.title('Anscombe Set 2')"
   ]
  },
  {
   "cell_type": "code",
   "execution_count": 165,
   "metadata": {},
   "outputs": [
    {
     "data": {
      "text/plain": [
       "Text(0.5,1,'Anscombe Set 2')"
      ]
     },
     "execution_count": 165,
     "metadata": {},
     "output_type": "execute_result"
    },
    {
     "data": {
      "image/png": "[encoded data removed]",
      "text/plain": [
       "<Figure size 432x288 with 1 Axes>"
      ]
     },
     "metadata": {},
     "output_type": "display_data"
    }
   ],
   "source": [
    "sns.residplot(df.x2, df.y2);\n",
    "plt.title('Anscombe Set 2')"
   ]
  },
  {
   "cell_type": "markdown",
   "metadata": {},
   "source": [
    "## Graph of Anscombe's Third Set (X3, Y3)\n",
    "An outlier is an observation that lies an abnormal distance from other values in a random sample from a population.[4] Dataset three looks like a tight linear relationship between x and y, except for one large outlier on the top right hand corner. After a regression line has been computed for a group of data, a point which lies far from the line (and thus has a large residual value) is known as an outlier. Such points may represent erroneous data, or may indicate a poorly fitting regression line.[5]"
   ]
  },
  {
   "cell_type": "code",
   "execution_count": 213,
   "metadata": {},
   "outputs": [
    {
     "data": {
      "text/plain": [
       "Text(0.5,1,'Anscombe Set 3')"
      ]
     },
     "execution_count": 213,
     "metadata": {},
     "output_type": "execute_result"
    },
    {
     "data": {
      "image/png": "[encoded data removed]",
      "text/plain": [
       "<Figure size 432x288 with 1 Axes>"
      ]
     },
     "metadata": {},
     "output_type": "display_data"
    }
   ],
   "source": [
    "sns.regplot(df.x3, df.y3); \n",
    "plt.title('Anscombe Set 3')"
   ]
  },
  {
   "cell_type": "code",
   "execution_count": 161,
   "metadata": {},
   "outputs": [
    {
     "data": {
      "text/plain": [
       "Text(0.5,1,'Anscombe Set 3')"
      ]
     },
     "execution_count": 161,
     "metadata": {},
     "output_type": "execute_result"
    },
    {
     "data": {
      "image/png": "[encoded data removed]",
      "text/plain": [
       "<Figure size 432x288 with 1 Axes>"
      ]
     },
     "metadata": {},
     "output_type": "display_data"
    }
   ],
   "source": [
    "sns.residplot(df.x3, df.y3);\n",
    "plt.title('Anscombe Set 3')"
   ]
  },
  {
   "cell_type": "markdown",
   "metadata": {},
   "source": [
    "## Graph of Anscombe's Fourth Set (X4, Y4)\n",
    "Dataset four looks like x remains constant, except for one outlier on the right hand side. This clearly indicates a poorly fitting regression line.[5]"
   ]
  },
  {
   "cell_type": "code",
   "execution_count": 248,
   "metadata": {},
   "outputs": [
    {
     "data": {
      "text/plain": [
       "Text(0.5,1,'Anscombe Set 4')"
      ]
     },
     "execution_count": 248,
     "metadata": {},
     "output_type": "execute_result"
    },
    {
     "data": {
      "image/png": "[encoded data removed]",
      "text/plain": [
       "<Figure size 432x288 with 1 Axes>"
      ]
     },
     "metadata": {},
     "output_type": "display_data"
    }
   ],
   "source": [
    "sns.regplot(df.x4, df.y4); \n",
    "plt.title('Anscombe Set 4')"
   ]
  },
  {
   "cell_type": "code",
   "execution_count": 162,
   "metadata": {},
   "outputs": [
    {
     "data": {
      "text/plain": [
       "Text(0.5,1,'Anscombe Set 4')"
      ]
     },
     "execution_count": 162,
     "metadata": {},
     "output_type": "execute_result"
    },
    {
     "data": {
      "image/png": "[encoded data removed]",
      "text/plain": [
       "<Figure size 432x288 with 1 Axes>"
      ]
     },
     "metadata": {},
     "output_type": "display_data"
    }
   ],
   "source": [
    "sns.residplot(df.x4, df.y4);\n",
    "plt.title('Anscombe Set 4')"
   ]
  },
  {
   "cell_type": "markdown",
   "metadata": {},
   "source": [
    "\n"
   ]
  },
  {
   "cell_type": "markdown",
   "metadata": {},
   "source": [
    "## What makes the dataset interesting?\n",
    "     \n",
    "The summary statistics for each of the regression models were virtually identical:\n",
    "    - The Sum of individual X columns is 99.0 and 82.5 for y\n",
    "    - Mean of X-axis data points:       x1, x2, x3, x4 = 9\n",
    "    - Variance of X-Axis data points:      x1, x2, x3, x4 = 11\n",
    "    - Mean of Y-axis data points:       y1, y2, y3, y4 = 7.50\n",
    "    - Variance of Y-Axis data points:     y1, y2, y3, y4 = 4.12\n",
    "    - The Correlation coefficient between X and Y is 0.816 for all four data sets.\n",
    "    - Linear Regression for each data set is slope =5 and intercept =3.\n",
    "    \n",
    "Scatter-plots reveal that only one of the data sets gives us a good model. I expected to see more uniformity in the graphs. The lack of data visualization can often lead to misleading conclusions and overlooked critical information, like the outliers in datasets three and four which do not stand out in summary statistics. It is important to visualize the data to get a clear picture of what’s going on. Appropriate graphs are an essential part of the data analysis process. \n"
   ]
  },
  {
   "cell_type": "markdown",
   "metadata": {},
   "source": [
    "\n",
    "\n",
    "### References\n",
    "[1] Summary statistics https://heapanalytics.com/blog/data-stories/anscombes-quartet-and-why-summary-statistics-dont-tell-the-whole-story <br/>\n",
    "\n",
    "[2] Correlation coefficient https://statistics.laerd.com/statistical-guides/pearson-correlation-coefficient-statistical-guide.php<br/>\n",
    "\n",
    "[3] Residplot https://seaborn.pydata.org/tutorial/regression.html <br/>\n",
    "\n",
    "[4] Outlier  https://www.itl.nist.gov/div898/handbook/prc/section1/prc16.htm <br/>\n",
    "\n",
    "[5] Linear regression http://www.stat.yale.edu/Courses/1997-98/101/linreg.htm"
   ]
  },
  {
   "cell_type": "code",
   "execution_count": null,
   "metadata": {},
   "outputs": [],
   "source": []
  }
 ],
 "metadata": {
  "kernelspec": {
   "display_name": "Python 3",
   "language": "python",
   "name": "python3"
  },
  "language_info": {
   "codemirror_mode": {
    "name": "ipython",
    "version": 3
   },
   "file_extension": ".py",
   "mimetype": "text/x-python",
   "name": "python",
   "nbconvert_exporter": "python",
   "pygments_lexer": "ipython3",
   "version": "3.6.5"
  }
 },
 "nbformat": 4,
 "nbformat_minor": 2
}
